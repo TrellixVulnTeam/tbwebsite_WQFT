{
 "cells": [
  {
   "cell_type": "code",
   "execution_count": 15,
   "metadata": {},
   "outputs": [],
   "source": [
    "import sqlite3\n",
    "import pandas as pd\n",
    "import os\n",
    "import datetime as dt"
   ]
  },
  {
   "cell_type": "code",
   "execution_count": 4,
   "metadata": {},
   "outputs": [],
   "source": [
    "def strtime_to_timestamp(value):\n",
    "    year = int(value[0:4])\n",
    "    month = int(value[4:6])\n",
    "    day = int(value[6:8])\n",
    "    hour = int(value[-8:-6])\n",
    "    minute = int(value[-5:-3])\n",
    "    return pd.Timestamp(year=year, month=month, day=day,hour=hour, minute=minute)\n"
   ]
  },
  {
   "cell_type": "code",
   "execution_count": 35,
   "metadata": {},
   "outputs": [
    {
     "name": "stdout",
     "output_type": "stream",
     "text": [
      "2022-06-18\n",
      "2022-06-18\n",
      "{'AAPL': Timestamp('2022-06-27 15:03:00'), 'META': Timestamp('2022-06-23 14:04:00')}\n",
      "{'AAPL': Timestamp('2022-06-27 14:27:00'), 'META': Timestamp('2022-06-23 13:35:00')}\n"
     ]
    }
   ],
   "source": [
    "db = sqlite3.connect(os.getcwd()+'/ticks.db')\n",
    "tickers = [\"AAPL\", \"META\"]\n",
    "oldest_date = {}\n",
    "latest_date = {}\n",
    "for ticker in tickers:\n",
    "    c= db.cursor()\n",
    "    c.execute(\"CREATE TABLE IF NOT EXISTS TICKER_{} (time datetime primary key, price real(15,5), volume integer)\".format(ticker))\n",
    "\n",
    "    oldest_date[ticker] = strtime_to_timestamp(c.execute(\"SELECT time FROM TICKER_{} ORDER BY time DESC LIMIT 1\".format(ticker)).fetchall()[0][0][:-7])\n",
    "    latest_date[ticker] = strtime_to_timestamp(c.execute(\"SELECT time FROM TICKER_{} ORDER BY time ASC LIMIT 1\".format(ticker)).fetchall()[0][0][:-7])\n",
    "\n",
    "    print(dt.date.today() - dt.timedelta(days=30))\n",
    "    date_oldest = latest_date[ticker].date()\n",
    "    if date_oldest < dt.date.today() - dt.timedelta(days=30):\n",
    "        year = date_oldest.year\n",
    "        month = date_oldest.month\n",
    "        day = date_oldest.day\n",
    "        sql_time = f'{year}-{month}-{day}'\n",
    "        c.execute('''DELETE FROM TICKER_{} WHERE time < '{}';'''.format(ticker, sql_time))\n",
    "    \n",
    "    elif date_oldest > dt.date.today() - dt.timedelta(days=30):\n",
    "        #we will need to implement reqHistData here\n",
    "        pass\n",
    "\n",
    "    \n",
    "\n",
    "\n",
    "print(oldest_date)\n",
    "print(latest_date)"
   ]
  },
  {
   "cell_type": "code",
   "execution_count": 34,
   "metadata": {},
   "outputs": [
    {
     "data": {
      "text/plain": [
       "2022"
      ]
     },
     "execution_count": 34,
     "metadata": {},
     "output_type": "execute_result"
    }
   ],
   "source": [
    "lol = latest_date[\"AAPL\"].date()\n",
    "lol.year"
   ]
  },
  {
   "cell_type": "code",
   "execution_count": 44,
   "metadata": {},
   "outputs": [
    {
     "ename": "OperationalError",
     "evalue": "no such function: day",
     "output_type": "error",
     "traceback": [
      "\u001b[0;31m---------------------------------------------------------------------------\u001b[0m",
      "\u001b[0;31mOperationalError\u001b[0m                          Traceback (most recent call last)",
      "\u001b[1;32m/Volumes/SSD/Dev/IBKR_Trading_Bots/tbwebsite/base/IBAPI/stream.ipynb Cell 5'\u001b[0m in \u001b[0;36m<cell line: 1>\u001b[0;34m()\u001b[0m\n\u001b[0;32m----> <a href='vscode-notebook-cell:/Volumes/SSD/Dev/IBKR_Trading_Bots/tbwebsite/base/IBAPI/stream.ipynb#ch0000004?line=0'>1</a>\u001b[0m c\u001b[39m.\u001b[39;49mexecute(\u001b[39m'''\u001b[39;49m\u001b[39mdelete from TICKER_AAPL where time not in\u001b[39;49m\n\u001b[1;32m      <a href='vscode-notebook-cell:/Volumes/SSD/Dev/IBKR_Trading_Bots/tbwebsite/base/IBAPI/stream.ipynb#ch0000004?line=1'>2</a>\u001b[0m \u001b[39m( SELECT * FROM \u001b[39;49m\n\u001b[1;32m      <a href='vscode-notebook-cell:/Volumes/SSD/Dev/IBKR_Trading_Bots/tbwebsite/base/IBAPI/stream.ipynb#ch0000004?line=2'>3</a>\u001b[0m \u001b[39m    (select min(time) from TICKER_AAPL group by day(time)) AS temp_tab\u001b[39;49m\n\u001b[1;32m      <a href='vscode-notebook-cell:/Volumes/SSD/Dev/IBKR_Trading_Bots/tbwebsite/base/IBAPI/stream.ipynb#ch0000004?line=3'>4</a>\u001b[0m \u001b[39m);\u001b[39;49m\u001b[39m'''\u001b[39;49m)\n",
      "\u001b[0;31mOperationalError\u001b[0m: no such function: day"
     ]
    }
   ],
   "source": [
    "c.execute('''delete from TICKER_AAPL where time not in\n",
    "( SELECT * FROM \n",
    "    (select min(time) from TICKER_AAPL group by day(time)) AS temp_tab\n",
    ");''')"
   ]
  },
  {
   "cell_type": "code",
   "execution_count": 49,
   "metadata": {},
   "outputs": [
    {
     "ename": "NameError",
     "evalue": "name 'app' is not defined",
     "output_type": "error",
     "traceback": [
      "\u001b[0;31m---------------------------------------------------------------------------\u001b[0m",
      "\u001b[0;31mNameError\u001b[0m                                 Traceback (most recent call last)",
      "\u001b[1;32m/Volumes/SSD/Dev/IBKR_Trading_Bots/tbwebsite/base/IBAPI/stream.ipynb Cell 6'\u001b[0m in \u001b[0;36m<cell line: 2>\u001b[0;34m()\u001b[0m\n\u001b[1;32m      <a href='vscode-notebook-cell:/Volumes/SSD/Dev/IBKR_Trading_Bots/tbwebsite/base/IBAPI/stream.ipynb#ch0000005?line=0'>1</a>\u001b[0m \u001b[39mfrom\u001b[39;00m \u001b[39mmain\u001b[39;00m \u001b[39mimport\u001b[39;00m \u001b[39m*\u001b[39m\n\u001b[0;32m----> <a href='vscode-notebook-cell:/Volumes/SSD/Dev/IBKR_Trading_Bots/tbwebsite/base/IBAPI/stream.ipynb#ch0000005?line=1'>2</a>\u001b[0m histData(tickers\u001b[39m.\u001b[39;49mindex(ticker),usTechStk(ticker),\u001b[39m'\u001b[39;49m\u001b[39m3600 S\u001b[39;49m\u001b[39m'\u001b[39;49m, \u001b[39m'\u001b[39;49m\u001b[39m30 secs\u001b[39;49m\u001b[39m'\u001b[39;49m)\n",
      "File \u001b[0;32m/Volumes/SSD/Dev/IBKR_Trading_Bots/tbwebsite/base/IBAPI/main.py:117\u001b[0m, in \u001b[0;36mhistData\u001b[0;34m(req_num, contract, duration, candle_size)\u001b[0m\n\u001b[1;32m    <a href='file:///Volumes/SSD/Dev/IBKR_Trading_Bots/tbwebsite/base/IBAPI/main.py?line=114'>115</a>\u001b[0m \u001b[39mdef\u001b[39;00m \u001b[39mhistData\u001b[39m(req_num,contract,duration,candle_size):\n\u001b[1;32m    <a href='file:///Volumes/SSD/Dev/IBKR_Trading_Bots/tbwebsite/base/IBAPI/main.py?line=115'>116</a>\u001b[0m     \u001b[39m\"\"\"extracts historical data\"\"\"\u001b[39;00m\n\u001b[0;32m--> <a href='file:///Volumes/SSD/Dev/IBKR_Trading_Bots/tbwebsite/base/IBAPI/main.py?line=116'>117</a>\u001b[0m     app\u001b[39m.\u001b[39mreqHistoricalData(reqId\u001b[39m=\u001b[39mreq_num, \n\u001b[1;32m    <a href='file:///Volumes/SSD/Dev/IBKR_Trading_Bots/tbwebsite/base/IBAPI/main.py?line=117'>118</a>\u001b[0m                           contract\u001b[39m=\u001b[39mcontract,\n\u001b[1;32m    <a href='file:///Volumes/SSD/Dev/IBKR_Trading_Bots/tbwebsite/base/IBAPI/main.py?line=118'>119</a>\u001b[0m                           endDateTime\u001b[39m=\u001b[39m\u001b[39m'\u001b[39m\u001b[39m'\u001b[39m,\n\u001b[1;32m    <a href='file:///Volumes/SSD/Dev/IBKR_Trading_Bots/tbwebsite/base/IBAPI/main.py?line=119'>120</a>\u001b[0m                           durationStr\u001b[39m=\u001b[39mduration,\n\u001b[1;32m    <a href='file:///Volumes/SSD/Dev/IBKR_Trading_Bots/tbwebsite/base/IBAPI/main.py?line=120'>121</a>\u001b[0m                           barSizeSetting\u001b[39m=\u001b[39mcandle_size,\n\u001b[1;32m    <a href='file:///Volumes/SSD/Dev/IBKR_Trading_Bots/tbwebsite/base/IBAPI/main.py?line=121'>122</a>\u001b[0m                           whatToShow\u001b[39m=\u001b[39m\u001b[39m'\u001b[39m\u001b[39mADJUSTED_LAST\u001b[39m\u001b[39m'\u001b[39m,\n\u001b[1;32m    <a href='file:///Volumes/SSD/Dev/IBKR_Trading_Bots/tbwebsite/base/IBAPI/main.py?line=122'>123</a>\u001b[0m                           useRTH\u001b[39m=\u001b[39m\u001b[39m1\u001b[39m,\n\u001b[1;32m    <a href='file:///Volumes/SSD/Dev/IBKR_Trading_Bots/tbwebsite/base/IBAPI/main.py?line=123'>124</a>\u001b[0m                           formatDate\u001b[39m=\u001b[39m\u001b[39m1\u001b[39m,\n\u001b[1;32m    <a href='file:///Volumes/SSD/Dev/IBKR_Trading_Bots/tbwebsite/base/IBAPI/main.py?line=124'>125</a>\u001b[0m                           keepUpToDate\u001b[39m=\u001b[39m\u001b[39m0\u001b[39m,\n\u001b[1;32m    <a href='file:///Volumes/SSD/Dev/IBKR_Trading_Bots/tbwebsite/base/IBAPI/main.py?line=125'>126</a>\u001b[0m                           chartOptions\u001b[39m=\u001b[39m[])\n",
      "\u001b[0;31mNameError\u001b[0m: name 'app' is not defined"
     ]
    }
   ],
   "source": [
    "from main import *\n",
    "histData(tickers.index(ticker),usTechStk(ticker),'3600 S', '30 secs')"
   ]
  },
  {
   "cell_type": "code",
   "execution_count": null,
   "metadata": {},
   "outputs": [],
   "source": []
  }
 ],
 "metadata": {
  "interpreter": {
   "hash": "40d3a090f54c6569ab1632332b64b2c03c39dcf918b08424e98f38b5ae0af88f"
  },
  "kernelspec": {
   "display_name": "Python 3.8.5 ('base')",
   "language": "python",
   "name": "python3"
  },
  "language_info": {
   "codemirror_mode": {
    "name": "ipython",
    "version": 3
   },
   "file_extension": ".py",
   "mimetype": "text/x-python",
   "name": "python",
   "nbconvert_exporter": "python",
   "pygments_lexer": "ipython3",
   "version": "3.8.5"
  },
  "orig_nbformat": 4
 },
 "nbformat": 4,
 "nbformat_minor": 2
}
